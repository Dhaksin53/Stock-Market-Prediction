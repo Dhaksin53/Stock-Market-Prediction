{
 "cells": [
  {
   "cell_type": "code",
   "execution_count": 1,
   "id": "17624ad7",
   "metadata": {},
   "outputs": [],
   "source": [
    "import numpy as np\n",
    "import pandas as pd\n"
   ]
  },
  {
   "cell_type": "code",
   "execution_count": 2,
   "id": "329d5e61",
   "metadata": {},
   "outputs": [
    {
     "data": {
      "text/html": [
       "<div>\n",
       "<style scoped>\n",
       "    .dataframe tbody tr th:only-of-type {\n",
       "        vertical-align: middle;\n",
       "    }\n",
       "\n",
       "    .dataframe tbody tr th {\n",
       "        vertical-align: top;\n",
       "    }\n",
       "\n",
       "    .dataframe thead th {\n",
       "        text-align: right;\n",
       "    }\n",
       "</style>\n",
       "<table border=\"1\" class=\"dataframe\">\n",
       "  <thead>\n",
       "    <tr style=\"text-align: right;\">\n",
       "      <th></th>\n",
       "      <th>date</th>\n",
       "      <th>open</th>\n",
       "      <th>high</th>\n",
       "      <th>low</th>\n",
       "      <th>close</th>\n",
       "      <th>adjclose</th>\n",
       "      <th>volume</th>\n",
       "      <th>ticker</th>\n",
       "      <th>RSIadjclose15</th>\n",
       "      <th>RSIvolume15</th>\n",
       "      <th>...</th>\n",
       "      <th>high-15</th>\n",
       "      <th>K-15</th>\n",
       "      <th>D-15</th>\n",
       "      <th>stochastic-k-15</th>\n",
       "      <th>stochastic-d-15</th>\n",
       "      <th>stochastic-kd-15</th>\n",
       "      <th>volumenrelativo</th>\n",
       "      <th>diff</th>\n",
       "      <th>INCREMENTO</th>\n",
       "      <th>TARGET</th>\n",
       "    </tr>\n",
       "  </thead>\n",
       "  <tbody>\n",
       "    <tr>\n",
       "      <th>0</th>\n",
       "      <td>2022-01-03</td>\n",
       "      <td>17.799999</td>\n",
       "      <td>18.219000</td>\n",
       "      <td>17.500000</td>\n",
       "      <td>17.760000</td>\n",
       "      <td>17.760000</td>\n",
       "      <td>106600</td>\n",
       "      <td>ASLE</td>\n",
       "      <td>NaN</td>\n",
       "      <td>NaN</td>\n",
       "      <td>...</td>\n",
       "      <td>NaN</td>\n",
       "      <td>NaN</td>\n",
       "      <td>NaN</td>\n",
       "      <td>NaN</td>\n",
       "      <td>NaN</td>\n",
       "      <td>NaN</td>\n",
       "      <td>0.919758</td>\n",
       "      <td>-1.900001</td>\n",
       "      <td>-9.664295</td>\n",
       "      <td>0</td>\n",
       "    </tr>\n",
       "    <tr>\n",
       "      <th>1</th>\n",
       "      <td>2022-01-04</td>\n",
       "      <td>17.700001</td>\n",
       "      <td>18.309999</td>\n",
       "      <td>17.620001</td>\n",
       "      <td>17.660000</td>\n",
       "      <td>17.660000</td>\n",
       "      <td>128700</td>\n",
       "      <td>ASLE</td>\n",
       "      <td>NaN</td>\n",
       "      <td>NaN</td>\n",
       "      <td>...</td>\n",
       "      <td>NaN</td>\n",
       "      <td>NaN</td>\n",
       "      <td>NaN</td>\n",
       "      <td>NaN</td>\n",
       "      <td>NaN</td>\n",
       "      <td>NaN</td>\n",
       "      <td>1.110440</td>\n",
       "      <td>-1.379999</td>\n",
       "      <td>-7.247895</td>\n",
       "      <td>0</td>\n",
       "    </tr>\n",
       "    <tr>\n",
       "      <th>2</th>\n",
       "      <td>2022-01-05</td>\n",
       "      <td>17.580000</td>\n",
       "      <td>17.799999</td>\n",
       "      <td>16.910000</td>\n",
       "      <td>16.950001</td>\n",
       "      <td>16.950001</td>\n",
       "      <td>103100</td>\n",
       "      <td>ASLE</td>\n",
       "      <td>NaN</td>\n",
       "      <td>NaN</td>\n",
       "      <td>...</td>\n",
       "      <td>NaN</td>\n",
       "      <td>NaN</td>\n",
       "      <td>NaN</td>\n",
       "      <td>NaN</td>\n",
       "      <td>NaN</td>\n",
       "      <td>NaN</td>\n",
       "      <td>0.889560</td>\n",
       "      <td>-0.930000</td>\n",
       "      <td>-5.201344</td>\n",
       "      <td>0</td>\n",
       "    </tr>\n",
       "    <tr>\n",
       "      <th>3</th>\n",
       "      <td>2022-01-06</td>\n",
       "      <td>16.650000</td>\n",
       "      <td>16.879999</td>\n",
       "      <td>16.139999</td>\n",
       "      <td>16.170000</td>\n",
       "      <td>16.170000</td>\n",
       "      <td>173600</td>\n",
       "      <td>ASLE</td>\n",
       "      <td>NaN</td>\n",
       "      <td>NaN</td>\n",
       "      <td>...</td>\n",
       "      <td>NaN</td>\n",
       "      <td>NaN</td>\n",
       "      <td>NaN</td>\n",
       "      <td>NaN</td>\n",
       "      <td>NaN</td>\n",
       "      <td>NaN</td>\n",
       "      <td>1.497843</td>\n",
       "      <td>-0.360000</td>\n",
       "      <td>-2.177856</td>\n",
       "      <td>0</td>\n",
       "    </tr>\n",
       "    <tr>\n",
       "      <th>4</th>\n",
       "      <td>2022-01-07</td>\n",
       "      <td>16.219999</td>\n",
       "      <td>16.290001</td>\n",
       "      <td>15.630000</td>\n",
       "      <td>15.710000</td>\n",
       "      <td>15.710000</td>\n",
       "      <td>137800</td>\n",
       "      <td>ASLE</td>\n",
       "      <td>NaN</td>\n",
       "      <td>NaN</td>\n",
       "      <td>...</td>\n",
       "      <td>NaN</td>\n",
       "      <td>NaN</td>\n",
       "      <td>NaN</td>\n",
       "      <td>NaN</td>\n",
       "      <td>NaN</td>\n",
       "      <td>NaN</td>\n",
       "      <td>1.188956</td>\n",
       "      <td>-0.120000</td>\n",
       "      <td>-0.758054</td>\n",
       "      <td>0</td>\n",
       "    </tr>\n",
       "  </tbody>\n",
       "</table>\n",
       "<p>5 rows × 1285 columns</p>\n",
       "</div>"
      ],
      "text/plain": [
       "         date       open       high        low      close   adjclose  volume  \\\n",
       "0  2022-01-03  17.799999  18.219000  17.500000  17.760000  17.760000  106600   \n",
       "1  2022-01-04  17.700001  18.309999  17.620001  17.660000  17.660000  128700   \n",
       "2  2022-01-05  17.580000  17.799999  16.910000  16.950001  16.950001  103100   \n",
       "3  2022-01-06  16.650000  16.879999  16.139999  16.170000  16.170000  173600   \n",
       "4  2022-01-07  16.219999  16.290001  15.630000  15.710000  15.710000  137800   \n",
       "\n",
       "  ticker  RSIadjclose15  RSIvolume15  ...  high-15  K-15  D-15  \\\n",
       "0   ASLE            NaN          NaN  ...      NaN   NaN   NaN   \n",
       "1   ASLE            NaN          NaN  ...      NaN   NaN   NaN   \n",
       "2   ASLE            NaN          NaN  ...      NaN   NaN   NaN   \n",
       "3   ASLE            NaN          NaN  ...      NaN   NaN   NaN   \n",
       "4   ASLE            NaN          NaN  ...      NaN   NaN   NaN   \n",
       "\n",
       "   stochastic-k-15  stochastic-d-15  stochastic-kd-15  volumenrelativo  \\\n",
       "0              NaN              NaN               NaN         0.919758   \n",
       "1              NaN              NaN               NaN         1.110440   \n",
       "2              NaN              NaN               NaN         0.889560   \n",
       "3              NaN              NaN               NaN         1.497843   \n",
       "4              NaN              NaN               NaN         1.188956   \n",
       "\n",
       "       diff  INCREMENTO  TARGET  \n",
       "0 -1.900001   -9.664295       0  \n",
       "1 -1.379999   -7.247895       0  \n",
       "2 -0.930000   -5.201344       0  \n",
       "3 -0.360000   -2.177856       0  \n",
       "4 -0.120000   -0.758054       0  \n",
       "\n",
       "[5 rows x 1285 columns]"
      ]
     },
     "execution_count": 2,
     "metadata": {},
     "output_type": "execute_result"
    }
   ],
   "source": [
    "df= pd.read_csv('infolimpioavanzadoTarget.csv')\n",
    "df.head()"
   ]
  },
  {
   "cell_type": "code",
   "execution_count": 3,
   "id": "21d621cd",
   "metadata": {},
   "outputs": [
    {
     "data": {
      "text/plain": [
       "(7781, 1285)"
      ]
     },
     "execution_count": 3,
     "metadata": {},
     "output_type": "execute_result"
    }
   ],
   "source": [
    "df.shape"
   ]
  },
  {
   "cell_type": "code",
   "execution_count": 4,
   "id": "2c4b1042",
   "metadata": {},
   "outputs": [
    {
     "data": {
      "text/html": [
       "<div>\n",
       "<style scoped>\n",
       "    .dataframe tbody tr th:only-of-type {\n",
       "        vertical-align: middle;\n",
       "    }\n",
       "\n",
       "    .dataframe tbody tr th {\n",
       "        vertical-align: top;\n",
       "    }\n",
       "\n",
       "    .dataframe thead th {\n",
       "        text-align: right;\n",
       "    }\n",
       "</style>\n",
       "<table border=\"1\" class=\"dataframe\">\n",
       "  <thead>\n",
       "    <tr style=\"text-align: right;\">\n",
       "      <th></th>\n",
       "      <th>date</th>\n",
       "      <th>open</th>\n",
       "      <th>high</th>\n",
       "      <th>low</th>\n",
       "      <th>close</th>\n",
       "    </tr>\n",
       "  </thead>\n",
       "  <tbody>\n",
       "    <tr>\n",
       "      <th>0</th>\n",
       "      <td>2022-01-03</td>\n",
       "      <td>17.799999</td>\n",
       "      <td>18.219000</td>\n",
       "      <td>17.500000</td>\n",
       "      <td>17.760000</td>\n",
       "    </tr>\n",
       "    <tr>\n",
       "      <th>1</th>\n",
       "      <td>2022-01-04</td>\n",
       "      <td>17.700001</td>\n",
       "      <td>18.309999</td>\n",
       "      <td>17.620001</td>\n",
       "      <td>17.660000</td>\n",
       "    </tr>\n",
       "    <tr>\n",
       "      <th>2</th>\n",
       "      <td>2022-01-05</td>\n",
       "      <td>17.580000</td>\n",
       "      <td>17.799999</td>\n",
       "      <td>16.910000</td>\n",
       "      <td>16.950001</td>\n",
       "    </tr>\n",
       "    <tr>\n",
       "      <th>3</th>\n",
       "      <td>2022-01-06</td>\n",
       "      <td>16.650000</td>\n",
       "      <td>16.879999</td>\n",
       "      <td>16.139999</td>\n",
       "      <td>16.170000</td>\n",
       "    </tr>\n",
       "    <tr>\n",
       "      <th>4</th>\n",
       "      <td>2022-01-07</td>\n",
       "      <td>16.219999</td>\n",
       "      <td>16.290001</td>\n",
       "      <td>15.630000</td>\n",
       "      <td>15.710000</td>\n",
       "    </tr>\n",
       "    <tr>\n",
       "      <th>...</th>\n",
       "      <td>...</td>\n",
       "      <td>...</td>\n",
       "      <td>...</td>\n",
       "      <td>...</td>\n",
       "      <td>...</td>\n",
       "    </tr>\n",
       "    <tr>\n",
       "      <th>7776</th>\n",
       "      <td>2022-12-23</td>\n",
       "      <td>23.250000</td>\n",
       "      <td>23.540001</td>\n",
       "      <td>23.250000</td>\n",
       "      <td>23.290001</td>\n",
       "    </tr>\n",
       "    <tr>\n",
       "      <th>7777</th>\n",
       "      <td>2022-12-27</td>\n",
       "      <td>23.350000</td>\n",
       "      <td>23.610001</td>\n",
       "      <td>23.250000</td>\n",
       "      <td>23.350000</td>\n",
       "    </tr>\n",
       "    <tr>\n",
       "      <th>7778</th>\n",
       "      <td>2022-12-28</td>\n",
       "      <td>23.450001</td>\n",
       "      <td>23.570000</td>\n",
       "      <td>23.219999</td>\n",
       "      <td>23.350000</td>\n",
       "    </tr>\n",
       "    <tr>\n",
       "      <th>7779</th>\n",
       "      <td>2022-12-29</td>\n",
       "      <td>23.330000</td>\n",
       "      <td>23.740000</td>\n",
       "      <td>23.330000</td>\n",
       "      <td>23.610001</td>\n",
       "    </tr>\n",
       "    <tr>\n",
       "      <th>7780</th>\n",
       "      <td>2022-12-30</td>\n",
       "      <td>23.680000</td>\n",
       "      <td>23.760000</td>\n",
       "      <td>23.610001</td>\n",
       "      <td>23.610001</td>\n",
       "    </tr>\n",
       "  </tbody>\n",
       "</table>\n",
       "<p>7781 rows × 5 columns</p>\n",
       "</div>"
      ],
      "text/plain": [
       "            date       open       high        low      close\n",
       "0     2022-01-03  17.799999  18.219000  17.500000  17.760000\n",
       "1     2022-01-04  17.700001  18.309999  17.620001  17.660000\n",
       "2     2022-01-05  17.580000  17.799999  16.910000  16.950001\n",
       "3     2022-01-06  16.650000  16.879999  16.139999  16.170000\n",
       "4     2022-01-07  16.219999  16.290001  15.630000  15.710000\n",
       "...          ...        ...        ...        ...        ...\n",
       "7776  2022-12-23  23.250000  23.540001  23.250000  23.290001\n",
       "7777  2022-12-27  23.350000  23.610001  23.250000  23.350000\n",
       "7778  2022-12-28  23.450001  23.570000  23.219999  23.350000\n",
       "7779  2022-12-29  23.330000  23.740000  23.330000  23.610001\n",
       "7780  2022-12-30  23.680000  23.760000  23.610001  23.610001\n",
       "\n",
       "[7781 rows x 5 columns]"
      ]
     },
     "execution_count": 4,
     "metadata": {},
     "output_type": "execute_result"
    }
   ],
   "source": [
    "sdf = df[['date','open', 'high', 'low', 'close']]\n",
    "sdf"
   ]
  },
  {
   "cell_type": "code",
   "execution_count": 5,
   "id": "99a7a442",
   "metadata": {},
   "outputs": [
    {
     "name": "stdout",
     "output_type": "stream",
     "text": [
      "<class 'pandas.core.frame.DataFrame'>\n",
      "RangeIndex: 7781 entries, 0 to 7780\n",
      "Data columns (total 5 columns):\n",
      " #   Column  Non-Null Count  Dtype  \n",
      "---  ------  --------------  -----  \n",
      " 0   date    7781 non-null   object \n",
      " 1   open    7781 non-null   float64\n",
      " 2   high    7781 non-null   float64\n",
      " 3   low     7781 non-null   float64\n",
      " 4   close   7781 non-null   float64\n",
      "dtypes: float64(4), object(1)\n",
      "memory usage: 304.1+ KB\n"
     ]
    }
   ],
   "source": [
    "sdf.info()"
   ]
  },
  {
   "cell_type": "code",
   "execution_count": 6,
   "id": "787ae8bf",
   "metadata": {},
   "outputs": [],
   "source": [
    "import seaborn as sns\n",
    "import matplotlib.pyplot as plt"
   ]
  },
  {
   "cell_type": "code",
   "execution_count": 7,
   "id": "aabae2eb",
   "metadata": {},
   "outputs": [
    {
     "data": {
      "text/plain": [
       "'plt.figure(figsize=(20,20)) \\nsns.heatmap(sdf.corr(), annot=True)\\n'"
      ]
     },
     "execution_count": 7,
     "metadata": {},
     "output_type": "execute_result"
    }
   ],
   "source": [
    "'''plt.figure(figsize=(20,20)) \n",
    "sns.heatmap(sdf.corr(), annot=True)\n",
    "'''"
   ]
  },
  {
   "cell_type": "code",
   "execution_count": 8,
   "id": "054cbbcf",
   "metadata": {},
   "outputs": [
    {
     "name": "stderr",
     "output_type": "stream",
     "text": [
      "C:\\Users\\HP\\AppData\\Local\\Temp\\ipykernel_28640\\3935413076.py:1: SettingWithCopyWarning: \n",
      "A value is trying to be set on a copy of a slice from a DataFrame.\n",
      "Try using .loc[row_indexer,col_indexer] = value instead\n",
      "\n",
      "See the caveats in the documentation: https://pandas.pydata.org/pandas-docs/stable/user_guide/indexing.html#returning-a-view-versus-a-copy\n",
      "  sdf[\"tomorrow\"]= sdf[\"close\"].shift(-1)\n"
     ]
    },
    {
     "data": {
      "text/html": [
       "<div>\n",
       "<style scoped>\n",
       "    .dataframe tbody tr th:only-of-type {\n",
       "        vertical-align: middle;\n",
       "    }\n",
       "\n",
       "    .dataframe tbody tr th {\n",
       "        vertical-align: top;\n",
       "    }\n",
       "\n",
       "    .dataframe thead th {\n",
       "        text-align: right;\n",
       "    }\n",
       "</style>\n",
       "<table border=\"1\" class=\"dataframe\">\n",
       "  <thead>\n",
       "    <tr style=\"text-align: right;\">\n",
       "      <th></th>\n",
       "      <th>date</th>\n",
       "      <th>open</th>\n",
       "      <th>high</th>\n",
       "      <th>low</th>\n",
       "      <th>close</th>\n",
       "      <th>tomorrow</th>\n",
       "    </tr>\n",
       "  </thead>\n",
       "  <tbody>\n",
       "    <tr>\n",
       "      <th>0</th>\n",
       "      <td>2022-01-03</td>\n",
       "      <td>17.799999</td>\n",
       "      <td>18.219000</td>\n",
       "      <td>17.500000</td>\n",
       "      <td>17.760000</td>\n",
       "      <td>17.660000</td>\n",
       "    </tr>\n",
       "    <tr>\n",
       "      <th>1</th>\n",
       "      <td>2022-01-04</td>\n",
       "      <td>17.700001</td>\n",
       "      <td>18.309999</td>\n",
       "      <td>17.620001</td>\n",
       "      <td>17.660000</td>\n",
       "      <td>16.950001</td>\n",
       "    </tr>\n",
       "    <tr>\n",
       "      <th>2</th>\n",
       "      <td>2022-01-05</td>\n",
       "      <td>17.580000</td>\n",
       "      <td>17.799999</td>\n",
       "      <td>16.910000</td>\n",
       "      <td>16.950001</td>\n",
       "      <td>16.170000</td>\n",
       "    </tr>\n",
       "    <tr>\n",
       "      <th>3</th>\n",
       "      <td>2022-01-06</td>\n",
       "      <td>16.650000</td>\n",
       "      <td>16.879999</td>\n",
       "      <td>16.139999</td>\n",
       "      <td>16.170000</td>\n",
       "      <td>15.710000</td>\n",
       "    </tr>\n",
       "    <tr>\n",
       "      <th>4</th>\n",
       "      <td>2022-01-07</td>\n",
       "      <td>16.219999</td>\n",
       "      <td>16.290001</td>\n",
       "      <td>15.630000</td>\n",
       "      <td>15.710000</td>\n",
       "      <td>15.860000</td>\n",
       "    </tr>\n",
       "    <tr>\n",
       "      <th>...</th>\n",
       "      <td>...</td>\n",
       "      <td>...</td>\n",
       "      <td>...</td>\n",
       "      <td>...</td>\n",
       "      <td>...</td>\n",
       "      <td>...</td>\n",
       "    </tr>\n",
       "    <tr>\n",
       "      <th>7776</th>\n",
       "      <td>2022-12-23</td>\n",
       "      <td>23.250000</td>\n",
       "      <td>23.540001</td>\n",
       "      <td>23.250000</td>\n",
       "      <td>23.290001</td>\n",
       "      <td>23.350000</td>\n",
       "    </tr>\n",
       "    <tr>\n",
       "      <th>7777</th>\n",
       "      <td>2022-12-27</td>\n",
       "      <td>23.350000</td>\n",
       "      <td>23.610001</td>\n",
       "      <td>23.250000</td>\n",
       "      <td>23.350000</td>\n",
       "      <td>23.350000</td>\n",
       "    </tr>\n",
       "    <tr>\n",
       "      <th>7778</th>\n",
       "      <td>2022-12-28</td>\n",
       "      <td>23.450001</td>\n",
       "      <td>23.570000</td>\n",
       "      <td>23.219999</td>\n",
       "      <td>23.350000</td>\n",
       "      <td>23.610001</td>\n",
       "    </tr>\n",
       "    <tr>\n",
       "      <th>7779</th>\n",
       "      <td>2022-12-29</td>\n",
       "      <td>23.330000</td>\n",
       "      <td>23.740000</td>\n",
       "      <td>23.330000</td>\n",
       "      <td>23.610001</td>\n",
       "      <td>23.610001</td>\n",
       "    </tr>\n",
       "    <tr>\n",
       "      <th>7780</th>\n",
       "      <td>2022-12-30</td>\n",
       "      <td>23.680000</td>\n",
       "      <td>23.760000</td>\n",
       "      <td>23.610001</td>\n",
       "      <td>23.610001</td>\n",
       "      <td>NaN</td>\n",
       "    </tr>\n",
       "  </tbody>\n",
       "</table>\n",
       "<p>7781 rows × 6 columns</p>\n",
       "</div>"
      ],
      "text/plain": [
       "            date       open       high        low      close   tomorrow\n",
       "0     2022-01-03  17.799999  18.219000  17.500000  17.760000  17.660000\n",
       "1     2022-01-04  17.700001  18.309999  17.620001  17.660000  16.950001\n",
       "2     2022-01-05  17.580000  17.799999  16.910000  16.950001  16.170000\n",
       "3     2022-01-06  16.650000  16.879999  16.139999  16.170000  15.710000\n",
       "4     2022-01-07  16.219999  16.290001  15.630000  15.710000  15.860000\n",
       "...          ...        ...        ...        ...        ...        ...\n",
       "7776  2022-12-23  23.250000  23.540001  23.250000  23.290001  23.350000\n",
       "7777  2022-12-27  23.350000  23.610001  23.250000  23.350000  23.350000\n",
       "7778  2022-12-28  23.450001  23.570000  23.219999  23.350000  23.610001\n",
       "7779  2022-12-29  23.330000  23.740000  23.330000  23.610001  23.610001\n",
       "7780  2022-12-30  23.680000  23.760000  23.610001  23.610001        NaN\n",
       "\n",
       "[7781 rows x 6 columns]"
      ]
     },
     "execution_count": 8,
     "metadata": {},
     "output_type": "execute_result"
    }
   ],
   "source": [
    "sdf[\"tomorrow\"]= sdf[\"close\"].shift(-1)\n",
    "sdf"
   ]
  },
  {
   "cell_type": "markdown",
   "id": "998caf8c",
   "metadata": {},
   "source": [
    "## setting boolean values"
   ]
  },
  {
   "cell_type": "code",
   "execution_count": 9,
   "id": "6c6c808f",
   "metadata": {},
   "outputs": [
    {
     "name": "stderr",
     "output_type": "stream",
     "text": [
      "C:\\Users\\HP\\AppData\\Local\\Temp\\ipykernel_28640\\2232110051.py:1: SettingWithCopyWarning: \n",
      "A value is trying to be set on a copy of a slice from a DataFrame.\n",
      "Try using .loc[row_indexer,col_indexer] = value instead\n",
      "\n",
      "See the caveats in the documentation: https://pandas.pydata.org/pandas-docs/stable/user_guide/indexing.html#returning-a-view-versus-a-copy\n",
      "  sdf[\"target\"] = sdf[\"tomorrow\"] > sdf[\"close\"].astype(float)\n"
     ]
    },
    {
     "data": {
      "text/html": [
       "<div>\n",
       "<style scoped>\n",
       "    .dataframe tbody tr th:only-of-type {\n",
       "        vertical-align: middle;\n",
       "    }\n",
       "\n",
       "    .dataframe tbody tr th {\n",
       "        vertical-align: top;\n",
       "    }\n",
       "\n",
       "    .dataframe thead th {\n",
       "        text-align: right;\n",
       "    }\n",
       "</style>\n",
       "<table border=\"1\" class=\"dataframe\">\n",
       "  <thead>\n",
       "    <tr style=\"text-align: right;\">\n",
       "      <th></th>\n",
       "      <th>date</th>\n",
       "      <th>open</th>\n",
       "      <th>high</th>\n",
       "      <th>low</th>\n",
       "      <th>close</th>\n",
       "      <th>tomorrow</th>\n",
       "      <th>target</th>\n",
       "    </tr>\n",
       "  </thead>\n",
       "  <tbody>\n",
       "    <tr>\n",
       "      <th>0</th>\n",
       "      <td>2022-01-03</td>\n",
       "      <td>17.799999</td>\n",
       "      <td>18.219000</td>\n",
       "      <td>17.500000</td>\n",
       "      <td>17.760000</td>\n",
       "      <td>17.660000</td>\n",
       "      <td>False</td>\n",
       "    </tr>\n",
       "    <tr>\n",
       "      <th>1</th>\n",
       "      <td>2022-01-04</td>\n",
       "      <td>17.700001</td>\n",
       "      <td>18.309999</td>\n",
       "      <td>17.620001</td>\n",
       "      <td>17.660000</td>\n",
       "      <td>16.950001</td>\n",
       "      <td>False</td>\n",
       "    </tr>\n",
       "    <tr>\n",
       "      <th>2</th>\n",
       "      <td>2022-01-05</td>\n",
       "      <td>17.580000</td>\n",
       "      <td>17.799999</td>\n",
       "      <td>16.910000</td>\n",
       "      <td>16.950001</td>\n",
       "      <td>16.170000</td>\n",
       "      <td>False</td>\n",
       "    </tr>\n",
       "    <tr>\n",
       "      <th>3</th>\n",
       "      <td>2022-01-06</td>\n",
       "      <td>16.650000</td>\n",
       "      <td>16.879999</td>\n",
       "      <td>16.139999</td>\n",
       "      <td>16.170000</td>\n",
       "      <td>15.710000</td>\n",
       "      <td>False</td>\n",
       "    </tr>\n",
       "    <tr>\n",
       "      <th>4</th>\n",
       "      <td>2022-01-07</td>\n",
       "      <td>16.219999</td>\n",
       "      <td>16.290001</td>\n",
       "      <td>15.630000</td>\n",
       "      <td>15.710000</td>\n",
       "      <td>15.860000</td>\n",
       "      <td>True</td>\n",
       "    </tr>\n",
       "    <tr>\n",
       "      <th>...</th>\n",
       "      <td>...</td>\n",
       "      <td>...</td>\n",
       "      <td>...</td>\n",
       "      <td>...</td>\n",
       "      <td>...</td>\n",
       "      <td>...</td>\n",
       "      <td>...</td>\n",
       "    </tr>\n",
       "    <tr>\n",
       "      <th>7776</th>\n",
       "      <td>2022-12-23</td>\n",
       "      <td>23.250000</td>\n",
       "      <td>23.540001</td>\n",
       "      <td>23.250000</td>\n",
       "      <td>23.290001</td>\n",
       "      <td>23.350000</td>\n",
       "      <td>True</td>\n",
       "    </tr>\n",
       "    <tr>\n",
       "      <th>7777</th>\n",
       "      <td>2022-12-27</td>\n",
       "      <td>23.350000</td>\n",
       "      <td>23.610001</td>\n",
       "      <td>23.250000</td>\n",
       "      <td>23.350000</td>\n",
       "      <td>23.350000</td>\n",
       "      <td>False</td>\n",
       "    </tr>\n",
       "    <tr>\n",
       "      <th>7778</th>\n",
       "      <td>2022-12-28</td>\n",
       "      <td>23.450001</td>\n",
       "      <td>23.570000</td>\n",
       "      <td>23.219999</td>\n",
       "      <td>23.350000</td>\n",
       "      <td>23.610001</td>\n",
       "      <td>True</td>\n",
       "    </tr>\n",
       "    <tr>\n",
       "      <th>7779</th>\n",
       "      <td>2022-12-29</td>\n",
       "      <td>23.330000</td>\n",
       "      <td>23.740000</td>\n",
       "      <td>23.330000</td>\n",
       "      <td>23.610001</td>\n",
       "      <td>23.610001</td>\n",
       "      <td>False</td>\n",
       "    </tr>\n",
       "    <tr>\n",
       "      <th>7780</th>\n",
       "      <td>2022-12-30</td>\n",
       "      <td>23.680000</td>\n",
       "      <td>23.760000</td>\n",
       "      <td>23.610001</td>\n",
       "      <td>23.610001</td>\n",
       "      <td>NaN</td>\n",
       "      <td>False</td>\n",
       "    </tr>\n",
       "  </tbody>\n",
       "</table>\n",
       "<p>7781 rows × 7 columns</p>\n",
       "</div>"
      ],
      "text/plain": [
       "            date       open       high        low      close   tomorrow  \\\n",
       "0     2022-01-03  17.799999  18.219000  17.500000  17.760000  17.660000   \n",
       "1     2022-01-04  17.700001  18.309999  17.620001  17.660000  16.950001   \n",
       "2     2022-01-05  17.580000  17.799999  16.910000  16.950001  16.170000   \n",
       "3     2022-01-06  16.650000  16.879999  16.139999  16.170000  15.710000   \n",
       "4     2022-01-07  16.219999  16.290001  15.630000  15.710000  15.860000   \n",
       "...          ...        ...        ...        ...        ...        ...   \n",
       "7776  2022-12-23  23.250000  23.540001  23.250000  23.290001  23.350000   \n",
       "7777  2022-12-27  23.350000  23.610001  23.250000  23.350000  23.350000   \n",
       "7778  2022-12-28  23.450001  23.570000  23.219999  23.350000  23.610001   \n",
       "7779  2022-12-29  23.330000  23.740000  23.330000  23.610001  23.610001   \n",
       "7780  2022-12-30  23.680000  23.760000  23.610001  23.610001        NaN   \n",
       "\n",
       "      target  \n",
       "0      False  \n",
       "1      False  \n",
       "2      False  \n",
       "3      False  \n",
       "4       True  \n",
       "...      ...  \n",
       "7776    True  \n",
       "7777   False  \n",
       "7778    True  \n",
       "7779   False  \n",
       "7780   False  \n",
       "\n",
       "[7781 rows x 7 columns]"
      ]
     },
     "execution_count": 9,
     "metadata": {},
     "output_type": "execute_result"
    }
   ],
   "source": [
    "sdf[\"target\"] = sdf[\"tomorrow\"] > sdf[\"close\"].astype(float)\n",
    "sdf"
   ]
  },
  {
   "cell_type": "code",
   "execution_count": 10,
   "id": "5deca385",
   "metadata": {},
   "outputs": [],
   "source": [
    "from sklearn.ensemble import RandomForestClassifier"
   ]
  },
  {
   "cell_type": "code",
   "execution_count": 11,
   "id": "33be2196",
   "metadata": {},
   "outputs": [],
   "source": [
    "ml = RandomForestClassifier(n_estimators=200, min_samples_split= 100, random_state=1)"
   ]
  },
  {
   "cell_type": "code",
   "execution_count": 12,
   "id": "f350923f",
   "metadata": {},
   "outputs": [],
   "source": [
    "train = sdf.iloc[:-100]\n",
    "test = sdf.iloc[-100:]"
   ]
  },
  {
   "cell_type": "code",
   "execution_count": 13,
   "id": "a3bda52a",
   "metadata": {},
   "outputs": [
    {
     "data": {
      "text/html": [
       "<style>#sk-container-id-1 {color: black;}#sk-container-id-1 pre{padding: 0;}#sk-container-id-1 div.sk-toggleable {background-color: white;}#sk-container-id-1 label.sk-toggleable__label {cursor: pointer;display: block;width: 100%;margin-bottom: 0;padding: 0.3em;box-sizing: border-box;text-align: center;}#sk-container-id-1 label.sk-toggleable__label-arrow:before {content: \"▸\";float: left;margin-right: 0.25em;color: #696969;}#sk-container-id-1 label.sk-toggleable__label-arrow:hover:before {color: black;}#sk-container-id-1 div.sk-estimator:hover label.sk-toggleable__label-arrow:before {color: black;}#sk-container-id-1 div.sk-toggleable__content {max-height: 0;max-width: 0;overflow: hidden;text-align: left;background-color: #f0f8ff;}#sk-container-id-1 div.sk-toggleable__content pre {margin: 0.2em;color: black;border-radius: 0.25em;background-color: #f0f8ff;}#sk-container-id-1 input.sk-toggleable__control:checked~div.sk-toggleable__content {max-height: 200px;max-width: 100%;overflow: auto;}#sk-container-id-1 input.sk-toggleable__control:checked~label.sk-toggleable__label-arrow:before {content: \"▾\";}#sk-container-id-1 div.sk-estimator input.sk-toggleable__control:checked~label.sk-toggleable__label {background-color: #d4ebff;}#sk-container-id-1 div.sk-label input.sk-toggleable__control:checked~label.sk-toggleable__label {background-color: #d4ebff;}#sk-container-id-1 input.sk-hidden--visually {border: 0;clip: rect(1px 1px 1px 1px);clip: rect(1px, 1px, 1px, 1px);height: 1px;margin: -1px;overflow: hidden;padding: 0;position: absolute;width: 1px;}#sk-container-id-1 div.sk-estimator {font-family: monospace;background-color: #f0f8ff;border: 1px dotted black;border-radius: 0.25em;box-sizing: border-box;margin-bottom: 0.5em;}#sk-container-id-1 div.sk-estimator:hover {background-color: #d4ebff;}#sk-container-id-1 div.sk-parallel-item::after {content: \"\";width: 100%;border-bottom: 1px solid gray;flex-grow: 1;}#sk-container-id-1 div.sk-label:hover label.sk-toggleable__label {background-color: #d4ebff;}#sk-container-id-1 div.sk-serial::before {content: \"\";position: absolute;border-left: 1px solid gray;box-sizing: border-box;top: 0;bottom: 0;left: 50%;z-index: 0;}#sk-container-id-1 div.sk-serial {display: flex;flex-direction: column;align-items: center;background-color: white;padding-right: 0.2em;padding-left: 0.2em;position: relative;}#sk-container-id-1 div.sk-item {position: relative;z-index: 1;}#sk-container-id-1 div.sk-parallel {display: flex;align-items: stretch;justify-content: center;background-color: white;position: relative;}#sk-container-id-1 div.sk-item::before, #sk-container-id-1 div.sk-parallel-item::before {content: \"\";position: absolute;border-left: 1px solid gray;box-sizing: border-box;top: 0;bottom: 0;left: 50%;z-index: -1;}#sk-container-id-1 div.sk-parallel-item {display: flex;flex-direction: column;z-index: 1;position: relative;background-color: white;}#sk-container-id-1 div.sk-parallel-item:first-child::after {align-self: flex-end;width: 50%;}#sk-container-id-1 div.sk-parallel-item:last-child::after {align-self: flex-start;width: 50%;}#sk-container-id-1 div.sk-parallel-item:only-child::after {width: 0;}#sk-container-id-1 div.sk-dashed-wrapped {border: 1px dashed gray;margin: 0 0.4em 0.5em 0.4em;box-sizing: border-box;padding-bottom: 0.4em;background-color: white;}#sk-container-id-1 div.sk-label label {font-family: monospace;font-weight: bold;display: inline-block;line-height: 1.2em;}#sk-container-id-1 div.sk-label-container {text-align: center;}#sk-container-id-1 div.sk-container {/* jupyter's `normalize.less` sets `[hidden] { display: none; }` but bootstrap.min.css set `[hidden] { display: none !important; }` so we also need the `!important` here to be able to override the default hidden behavior on the sphinx rendered scikit-learn.org. See: https://github.com/scikit-learn/scikit-learn/issues/21755 */display: inline-block !important;position: relative;}#sk-container-id-1 div.sk-text-repr-fallback {display: none;}</style><div id=\"sk-container-id-1\" class=\"sk-top-container\"><div class=\"sk-text-repr-fallback\"><pre>RandomForestClassifier(min_samples_split=100, n_estimators=200, random_state=1)</pre><b>In a Jupyter environment, please rerun this cell to show the HTML representation or trust the notebook. <br />On GitHub, the HTML representation is unable to render, please try loading this page with nbviewer.org.</b></div><div class=\"sk-container\" hidden><div class=\"sk-item\"><div class=\"sk-estimator sk-toggleable\"><input class=\"sk-toggleable__control sk-hidden--visually\" id=\"sk-estimator-id-1\" type=\"checkbox\" checked><label for=\"sk-estimator-id-1\" class=\"sk-toggleable__label sk-toggleable__label-arrow\">RandomForestClassifier</label><div class=\"sk-toggleable__content\"><pre>RandomForestClassifier(min_samples_split=100, n_estimators=200, random_state=1)</pre></div></div></div></div></div>"
      ],
      "text/plain": [
       "RandomForestClassifier(min_samples_split=100, n_estimators=200, random_state=1)"
      ]
     },
     "execution_count": 13,
     "metadata": {},
     "output_type": "execute_result"
    }
   ],
   "source": [
    "pred = [\"open\", \"high\", \"low\", \"close\"] \n",
    "ml.fit(train[pred], train[\"target\"])"
   ]
  },
  {
   "cell_type": "code",
   "execution_count": 14,
   "id": "8f451d2e",
   "metadata": {},
   "outputs": [],
   "source": [
    "from sklearn.metrics import precision_score"
   ]
  },
  {
   "cell_type": "code",
   "execution_count": 15,
   "id": "3b4b9e5a",
   "metadata": {},
   "outputs": [
    {
     "data": {
      "text/plain": [
       "array([False, False, False, False, False, False, False, False, False,\n",
       "       False, False, False, False, False, False, False, False, False,\n",
       "       False, False, False, False, False, False, False, False, False,\n",
       "       False, False, False, False, False, False, False, False,  True,\n",
       "       False, False, False, False, False, False, False, False, False,\n",
       "       False, False, False, False, False, False, False, False, False,\n",
       "       False, False, False, False, False, False, False, False,  True,\n",
       "       False, False, False, False, False,  True, False, False, False,\n",
       "       False, False,  True,  True,  True, False, False, False,  True,\n",
       "        True,  True,  True,  True,  True,  True,  True,  True,  True,\n",
       "       False, False, False,  True,  True, False,  True,  True,  True,\n",
       "        True])"
      ]
     },
     "execution_count": 15,
     "metadata": {},
     "output_type": "execute_result"
    }
   ],
   "source": [
    "p = ml.predict(test[pred])\n",
    "p"
   ]
  },
  {
   "cell_type": "code",
   "execution_count": 16,
   "id": "b35fa7c4",
   "metadata": {},
   "outputs": [],
   "source": [
    "from sklearn.preprocessing import LabelEncoder\n",
    "le = LabelEncoder()"
   ]
  },
  {
   "cell_type": "code",
   "execution_count": 17,
   "id": "2a4de83e",
   "metadata": {},
   "outputs": [
    {
     "data": {
      "text/html": [
       "<div>\n",
       "<style scoped>\n",
       "    .dataframe tbody tr th:only-of-type {\n",
       "        vertical-align: middle;\n",
       "    }\n",
       "\n",
       "    .dataframe tbody tr th {\n",
       "        vertical-align: top;\n",
       "    }\n",
       "\n",
       "    .dataframe thead th {\n",
       "        text-align: right;\n",
       "    }\n",
       "</style>\n",
       "<table border=\"1\" class=\"dataframe\">\n",
       "  <thead>\n",
       "    <tr style=\"text-align: right;\">\n",
       "      <th></th>\n",
       "      <th>date</th>\n",
       "    </tr>\n",
       "  </thead>\n",
       "  <tbody>\n",
       "    <tr>\n",
       "      <th>0</th>\n",
       "      <td>2022-01-03</td>\n",
       "    </tr>\n",
       "    <tr>\n",
       "      <th>1</th>\n",
       "      <td>2022-01-04</td>\n",
       "    </tr>\n",
       "    <tr>\n",
       "      <th>2</th>\n",
       "      <td>2022-01-05</td>\n",
       "    </tr>\n",
       "    <tr>\n",
       "      <th>3</th>\n",
       "      <td>2022-01-06</td>\n",
       "    </tr>\n",
       "    <tr>\n",
       "      <th>4</th>\n",
       "      <td>2022-01-07</td>\n",
       "    </tr>\n",
       "    <tr>\n",
       "      <th>...</th>\n",
       "      <td>...</td>\n",
       "    </tr>\n",
       "    <tr>\n",
       "      <th>7776</th>\n",
       "      <td>2022-12-23</td>\n",
       "    </tr>\n",
       "    <tr>\n",
       "      <th>7777</th>\n",
       "      <td>2022-12-27</td>\n",
       "    </tr>\n",
       "    <tr>\n",
       "      <th>7778</th>\n",
       "      <td>2022-12-28</td>\n",
       "    </tr>\n",
       "    <tr>\n",
       "      <th>7779</th>\n",
       "      <td>2022-12-29</td>\n",
       "    </tr>\n",
       "    <tr>\n",
       "      <th>7780</th>\n",
       "      <td>2022-12-30</td>\n",
       "    </tr>\n",
       "  </tbody>\n",
       "</table>\n",
       "<p>7781 rows × 1 columns</p>\n",
       "</div>"
      ],
      "text/plain": [
       "            date\n",
       "0     2022-01-03\n",
       "1     2022-01-04\n",
       "2     2022-01-05\n",
       "3     2022-01-06\n",
       "4     2022-01-07\n",
       "...          ...\n",
       "7776  2022-12-23\n",
       "7777  2022-12-27\n",
       "7778  2022-12-28\n",
       "7779  2022-12-29\n",
       "7780  2022-12-30\n",
       "\n",
       "[7781 rows x 1 columns]"
      ]
     },
     "execution_count": 17,
     "metadata": {},
     "output_type": "execute_result"
    }
   ],
   "source": [
    "cols = sdf.select_dtypes(include=['object'])\n",
    "cols"
   ]
  },
  {
   "cell_type": "code",
   "execution_count": 18,
   "id": "31a7d6b8",
   "metadata": {},
   "outputs": [
    {
     "name": "stderr",
     "output_type": "stream",
     "text": [
      "C:\\Users\\HP\\AppData\\Local\\Temp\\ipykernel_28640\\2241738112.py:3: SettingWithCopyWarning: \n",
      "A value is trying to be set on a copy of a slice from a DataFrame.\n",
      "Try using .loc[row_indexer,col_indexer] = value instead\n",
      "\n",
      "See the caveats in the documentation: https://pandas.pydata.org/pandas-docs/stable/user_guide/indexing.html#returning-a-view-versus-a-copy\n",
      "  sdf[i] = le.fit_transform(sdf[i])\n"
     ]
    }
   ],
   "source": [
    "for i in cols.columns:\n",
    "    try:\n",
    "        sdf[i] = le.fit_transform(sdf[i])\n",
    "    except:\n",
    "        continue"
   ]
  },
  {
   "cell_type": "code",
   "execution_count": 19,
   "id": "cca91a62",
   "metadata": {},
   "outputs": [
    {
     "data": {
      "text/html": [
       "<div>\n",
       "<style scoped>\n",
       "    .dataframe tbody tr th:only-of-type {\n",
       "        vertical-align: middle;\n",
       "    }\n",
       "\n",
       "    .dataframe tbody tr th {\n",
       "        vertical-align: top;\n",
       "    }\n",
       "\n",
       "    .dataframe thead th {\n",
       "        text-align: right;\n",
       "    }\n",
       "</style>\n",
       "<table border=\"1\" class=\"dataframe\">\n",
       "  <thead>\n",
       "    <tr style=\"text-align: right;\">\n",
       "      <th></th>\n",
       "      <th>date</th>\n",
       "      <th>open</th>\n",
       "      <th>high</th>\n",
       "      <th>low</th>\n",
       "      <th>close</th>\n",
       "      <th>tomorrow</th>\n",
       "      <th>target</th>\n",
       "    </tr>\n",
       "  </thead>\n",
       "  <tbody>\n",
       "    <tr>\n",
       "      <th>date</th>\n",
       "      <td>1.000000</td>\n",
       "      <td>-0.033387</td>\n",
       "      <td>-0.033622</td>\n",
       "      <td>-0.032607</td>\n",
       "      <td>-0.032823</td>\n",
       "      <td>-0.031013</td>\n",
       "      <td>0.030005</td>\n",
       "    </tr>\n",
       "    <tr>\n",
       "      <th>open</th>\n",
       "      <td>-0.033387</td>\n",
       "      <td>1.000000</td>\n",
       "      <td>0.999876</td>\n",
       "      <td>0.999878</td>\n",
       "      <td>0.999660</td>\n",
       "      <td>0.993796</td>\n",
       "      <td>0.010350</td>\n",
       "    </tr>\n",
       "    <tr>\n",
       "      <th>high</th>\n",
       "      <td>-0.033622</td>\n",
       "      <td>0.999876</td>\n",
       "      <td>1.000000</td>\n",
       "      <td>0.999875</td>\n",
       "      <td>0.999862</td>\n",
       "      <td>0.994051</td>\n",
       "      <td>0.010773</td>\n",
       "    </tr>\n",
       "    <tr>\n",
       "      <th>low</th>\n",
       "      <td>-0.032607</td>\n",
       "      <td>0.999878</td>\n",
       "      <td>0.999875</td>\n",
       "      <td>1.000000</td>\n",
       "      <td>0.999859</td>\n",
       "      <td>0.993980</td>\n",
       "      <td>0.010333</td>\n",
       "    </tr>\n",
       "    <tr>\n",
       "      <th>close</th>\n",
       "      <td>-0.032823</td>\n",
       "      <td>0.999660</td>\n",
       "      <td>0.999862</td>\n",
       "      <td>0.999859</td>\n",
       "      <td>1.000000</td>\n",
       "      <td>0.994115</td>\n",
       "      <td>0.010634</td>\n",
       "    </tr>\n",
       "    <tr>\n",
       "      <th>tomorrow</th>\n",
       "      <td>-0.031013</td>\n",
       "      <td>0.993796</td>\n",
       "      <td>0.994051</td>\n",
       "      <td>0.993980</td>\n",
       "      <td>0.994115</td>\n",
       "      <td>1.000000</td>\n",
       "      <td>0.021349</td>\n",
       "    </tr>\n",
       "    <tr>\n",
       "      <th>target</th>\n",
       "      <td>0.030005</td>\n",
       "      <td>0.010350</td>\n",
       "      <td>0.010773</td>\n",
       "      <td>0.010333</td>\n",
       "      <td>0.010634</td>\n",
       "      <td>0.021349</td>\n",
       "      <td>1.000000</td>\n",
       "    </tr>\n",
       "  </tbody>\n",
       "</table>\n",
       "</div>"
      ],
      "text/plain": [
       "              date      open      high       low     close  tomorrow    target\n",
       "date      1.000000 -0.033387 -0.033622 -0.032607 -0.032823 -0.031013  0.030005\n",
       "open     -0.033387  1.000000  0.999876  0.999878  0.999660  0.993796  0.010350\n",
       "high     -0.033622  0.999876  1.000000  0.999875  0.999862  0.994051  0.010773\n",
       "low      -0.032607  0.999878  0.999875  1.000000  0.999859  0.993980  0.010333\n",
       "close    -0.032823  0.999660  0.999862  0.999859  1.000000  0.994115  0.010634\n",
       "tomorrow -0.031013  0.993796  0.994051  0.993980  0.994115  1.000000  0.021349\n",
       "target    0.030005  0.010350  0.010773  0.010333  0.010634  0.021349  1.000000"
      ]
     },
     "execution_count": 19,
     "metadata": {},
     "output_type": "execute_result"
    }
   ],
   "source": [
    "sdf.corr()"
   ]
  },
  {
   "cell_type": "code",
   "execution_count": 20,
   "id": "9b4e2364",
   "metadata": {},
   "outputs": [
    {
     "data": {
      "image/png": "[encoded data removed]",
      "text/plain": [
       "<Figure size 2000x2000 with 6 Axes>"
      ]
     },
     "metadata": {},
     "output_type": "display_data"
    }
   ],
   "source": [
    "sdf.hist(bins=35,figsize=(20,20));"
   ]
  },
  {
   "cell_type": "code",
   "execution_count": 21,
   "id": "27bec8eb",
   "metadata": {},
   "outputs": [],
   "source": [
    "from sklearn.preprocessing import MinMaxScaler\n",
    "scaler = MinMaxScaler()"
   ]
  },
  {
   "cell_type": "code",
   "execution_count": 22,
   "id": "6108eeee",
   "metadata": {},
   "outputs": [
    {
     "name": "stderr",
     "output_type": "stream",
     "text": [
      "C:\\Users\\HP\\AppData\\Local\\Temp\\ipykernel_28640\\4007029763.py:2: SettingWithCopyWarning: \n",
      "A value is trying to be set on a copy of a slice from a DataFrame.\n",
      "Try using .loc[row_indexer,col_indexer] = value instead\n",
      "\n",
      "See the caveats in the documentation: https://pandas.pydata.org/pandas-docs/stable/user_guide/indexing.html#returning-a-view-versus-a-copy\n",
      "  sdf[i] = scaler.fit_transform(sdf[[i]])\n",
      "C:\\Users\\HP\\AppData\\Local\\Temp\\ipykernel_28640\\4007029763.py:2: SettingWithCopyWarning: \n",
      "A value is trying to be set on a copy of a slice from a DataFrame.\n",
      "Try using .loc[row_indexer,col_indexer] = value instead\n",
      "\n",
      "See the caveats in the documentation: https://pandas.pydata.org/pandas-docs/stable/user_guide/indexing.html#returning-a-view-versus-a-copy\n",
      "  sdf[i] = scaler.fit_transform(sdf[[i]])\n",
      "C:\\Users\\HP\\AppData\\Local\\Temp\\ipykernel_28640\\4007029763.py:2: SettingWithCopyWarning: \n",
      "A value is trying to be set on a copy of a slice from a DataFrame.\n",
      "Try using .loc[row_indexer,col_indexer] = value instead\n",
      "\n",
      "See the caveats in the documentation: https://pandas.pydata.org/pandas-docs/stable/user_guide/indexing.html#returning-a-view-versus-a-copy\n",
      "  sdf[i] = scaler.fit_transform(sdf[[i]])\n",
      "C:\\Users\\HP\\AppData\\Local\\Temp\\ipykernel_28640\\4007029763.py:2: SettingWithCopyWarning: \n",
      "A value is trying to be set on a copy of a slice from a DataFrame.\n",
      "Try using .loc[row_indexer,col_indexer] = value instead\n",
      "\n",
      "See the caveats in the documentation: https://pandas.pydata.org/pandas-docs/stable/user_guide/indexing.html#returning-a-view-versus-a-copy\n",
      "  sdf[i] = scaler.fit_transform(sdf[[i]])\n",
      "C:\\Users\\HP\\AppData\\Local\\Temp\\ipykernel_28640\\4007029763.py:2: SettingWithCopyWarning: \n",
      "A value is trying to be set on a copy of a slice from a DataFrame.\n",
      "Try using .loc[row_indexer,col_indexer] = value instead\n",
      "\n",
      "See the caveats in the documentation: https://pandas.pydata.org/pandas-docs/stable/user_guide/indexing.html#returning-a-view-versus-a-copy\n",
      "  sdf[i] = scaler.fit_transform(sdf[[i]])\n",
      "C:\\Users\\HP\\AppData\\Local\\Temp\\ipykernel_28640\\4007029763.py:2: SettingWithCopyWarning: \n",
      "A value is trying to be set on a copy of a slice from a DataFrame.\n",
      "Try using .loc[row_indexer,col_indexer] = value instead\n",
      "\n",
      "See the caveats in the documentation: https://pandas.pydata.org/pandas-docs/stable/user_guide/indexing.html#returning-a-view-versus-a-copy\n",
      "  sdf[i] = scaler.fit_transform(sdf[[i]])\n",
      "C:\\Users\\HP\\AppData\\Local\\Temp\\ipykernel_28640\\4007029763.py:2: SettingWithCopyWarning: \n",
      "A value is trying to be set on a copy of a slice from a DataFrame.\n",
      "Try using .loc[row_indexer,col_indexer] = value instead\n",
      "\n",
      "See the caveats in the documentation: https://pandas.pydata.org/pandas-docs/stable/user_guide/indexing.html#returning-a-view-versus-a-copy\n",
      "  sdf[i] = scaler.fit_transform(sdf[[i]])\n"
     ]
    }
   ],
   "source": [
    "for i in sdf.columns:\n",
    "    sdf[i] = scaler.fit_transform(sdf[[i]])"
   ]
  },
  {
   "cell_type": "code",
   "execution_count": 23,
   "id": "53223c8e",
   "metadata": {},
   "outputs": [
    {
     "data": {
      "image/png": "[encoded data removed]",
      "text/plain": [
       "<Figure size 2000x2000 with 9 Axes>"
      ]
     },
     "metadata": {},
     "output_type": "display_data"
    }
   ],
   "source": [
    "sdf.hist(bins=35,figsize=(20,20));"
   ]
  },
  {
   "cell_type": "code",
   "execution_count": null,
   "id": "4b0d113a",
   "metadata": {},
   "outputs": [],
   "source": []
  },
  {
   "cell_type": "code",
   "execution_count": 24,
   "id": "435d1178",
   "metadata": {},
   "outputs": [],
   "source": [
    "y=sdf.target"
   ]
  },
  {
   "cell_type": "code",
   "execution_count": 25,
   "id": "22ee9347",
   "metadata": {},
   "outputs": [],
   "source": [
    "from sklearn.model_selection import train_test_split\n",
    "X_train,X_test,y_train,y_test = train_test_split(sdf,y,test_size=0.28,random_state=42)"
   ]
  },
  {
   "cell_type": "code",
   "execution_count": 26,
   "id": "732436fc",
   "metadata": {},
   "outputs": [],
   "source": [
    "from sklearn.metrics import accuracy_score"
   ]
  },
  {
   "cell_type": "code",
   "execution_count": 27,
   "id": "729818cc",
   "metadata": {},
   "outputs": [],
   "source": [
    "from sklearn.tree import DecisionTreeClassifier\n",
    "tree = DecisionTreeClassifier(max_depth=3)\n",
    "clf = tree.fit(X_train,y_train)\n",
    "treepredict = clf.predict(X_test)"
   ]
  },
  {
   "cell_type": "code",
   "execution_count": 28,
   "id": "12f93cb6",
   "metadata": {},
   "outputs": [
    {
     "data": {
      "text/plain": [
       "1.0"
      ]
     },
     "execution_count": 28,
     "metadata": {},
     "output_type": "execute_result"
    }
   ],
   "source": [
    "accuracy_score(treepredict,y_test)"
   ]
  },
  {
   "cell_type": "code",
   "execution_count": 29,
   "id": "f288eb80",
   "metadata": {},
   "outputs": [],
   "source": [
    "from sklearn.decomposition import PCA\n",
    "pca = PCA(n_components=4)"
   ]
  },
  {
   "cell_type": "code",
   "execution_count": 30,
   "id": "f3a1ad37",
   "metadata": {},
   "outputs": [
    {
     "name": "stdout",
     "output_type": "stream",
     "text": [
      "<class 'pandas.core.frame.DataFrame'>\n",
      "RangeIndex: 7781 entries, 0 to 7780\n",
      "Data columns (total 7 columns):\n",
      " #   Column    Non-Null Count  Dtype  \n",
      "---  ------    --------------  -----  \n",
      " 0   date      7781 non-null   float64\n",
      " 1   open      7781 non-null   float64\n",
      " 2   high      7781 non-null   float64\n",
      " 3   low       7781 non-null   float64\n",
      " 4   close     7781 non-null   float64\n",
      " 5   tomorrow  7780 non-null   float64\n",
      " 6   target    7781 non-null   float64\n",
      "dtypes: float64(7)\n",
      "memory usage: 425.7 KB\n"
     ]
    }
   ],
   "source": [
    "sdf.info()"
   ]
  },
  {
   "cell_type": "code",
   "execution_count": 31,
   "id": "f6e67ea3",
   "metadata": {},
   "outputs": [],
   "source": [
    "X = sdf.drop('target',axis=1)"
   ]
  },
  {
   "cell_type": "code",
   "execution_count": null,
   "id": "8e6b04ff",
   "metadata": {},
   "outputs": [],
   "source": []
  },
  {
   "cell_type": "code",
   "execution_count": 32,
   "id": "10f6e769",
   "metadata": {},
   "outputs": [],
   "source": [
    "sdf = sdf[sdf['tomorrow'].notnull()]"
   ]
  },
  {
   "cell_type": "code",
   "execution_count": 33,
   "id": "d0eb43c6",
   "metadata": {},
   "outputs": [],
   "source": [
    "X = sdf.drop('target',axis=1)"
   ]
  },
  {
   "cell_type": "code",
   "execution_count": 34,
   "id": "ec9d44ab",
   "metadata": {},
   "outputs": [],
   "source": [
    "v = pca.fit_transform(X)"
   ]
  },
  {
   "cell_type": "code",
   "execution_count": 35,
   "id": "bd50aaae",
   "metadata": {},
   "outputs": [],
   "source": [
    "X_pca = pd.DataFrame(data = v, columns = ['col1', 'col2', 'col3', 'col4'])"
   ]
  },
  {
   "cell_type": "code",
   "execution_count": 36,
   "id": "2397aae3",
   "metadata": {},
   "outputs": [
    {
     "data": {
      "text/html": [
       "<div>\n",
       "<style scoped>\n",
       "    .dataframe tbody tr th:only-of-type {\n",
       "        vertical-align: middle;\n",
       "    }\n",
       "\n",
       "    .dataframe tbody tr th {\n",
       "        vertical-align: top;\n",
       "    }\n",
       "\n",
       "    .dataframe thead th {\n",
       "        text-align: right;\n",
       "    }\n",
       "</style>\n",
       "<table border=\"1\" class=\"dataframe\">\n",
       "  <thead>\n",
       "    <tr style=\"text-align: right;\">\n",
       "      <th></th>\n",
       "      <th>col1</th>\n",
       "      <th>col2</th>\n",
       "      <th>col3</th>\n",
       "      <th>col4</th>\n",
       "    </tr>\n",
       "  </thead>\n",
       "  <tbody>\n",
       "    <tr>\n",
       "      <th>0</th>\n",
       "      <td>0.442908</td>\n",
       "      <td>-0.236870</td>\n",
       "      <td>0.000150</td>\n",
       "      <td>0.000060</td>\n",
       "    </tr>\n",
       "    <tr>\n",
       "      <th>1</th>\n",
       "      <td>0.439067</td>\n",
       "      <td>-0.235691</td>\n",
       "      <td>-0.000655</td>\n",
       "      <td>0.000067</td>\n",
       "    </tr>\n",
       "    <tr>\n",
       "      <th>2</th>\n",
       "      <td>0.434763</td>\n",
       "      <td>-0.235623</td>\n",
       "      <td>-0.000971</td>\n",
       "      <td>-0.000440</td>\n",
       "    </tr>\n",
       "    <tr>\n",
       "      <th>3</th>\n",
       "      <td>0.430234</td>\n",
       "      <td>-0.236092</td>\n",
       "      <td>-0.000537</td>\n",
       "      <td>-0.000319</td>\n",
       "    </tr>\n",
       "    <tr>\n",
       "      <th>4</th>\n",
       "      <td>0.426141</td>\n",
       "      <td>-0.235514</td>\n",
       "      <td>0.000185</td>\n",
       "      <td>-0.000358</td>\n",
       "    </tr>\n",
       "    <tr>\n",
       "      <th>...</th>\n",
       "      <td>...</td>\n",
       "      <td>...</td>\n",
       "      <td>...</td>\n",
       "      <td>...</td>\n",
       "    </tr>\n",
       "    <tr>\n",
       "      <th>7775</th>\n",
       "      <td>-0.455829</td>\n",
       "      <td>0.154166</td>\n",
       "      <td>-0.000373</td>\n",
       "      <td>-0.000081</td>\n",
       "    </tr>\n",
       "    <tr>\n",
       "      <th>7776</th>\n",
       "      <td>-0.459449</td>\n",
       "      <td>0.155876</td>\n",
       "      <td>-0.000384</td>\n",
       "      <td>-0.000030</td>\n",
       "    </tr>\n",
       "    <tr>\n",
       "      <th>7777</th>\n",
       "      <td>-0.463092</td>\n",
       "      <td>0.157534</td>\n",
       "      <td>-0.000451</td>\n",
       "      <td>-0.000062</td>\n",
       "    </tr>\n",
       "    <tr>\n",
       "      <th>7778</th>\n",
       "      <td>-0.466723</td>\n",
       "      <td>0.159221</td>\n",
       "      <td>-0.000173</td>\n",
       "      <td>-0.000154</td>\n",
       "    </tr>\n",
       "    <tr>\n",
       "      <th>7779</th>\n",
       "      <td>-0.470324</td>\n",
       "      <td>0.160978</td>\n",
       "      <td>-0.000285</td>\n",
       "      <td>0.000182</td>\n",
       "    </tr>\n",
       "  </tbody>\n",
       "</table>\n",
       "<p>7780 rows × 4 columns</p>\n",
       "</div>"
      ],
      "text/plain": [
       "          col1      col2      col3      col4\n",
       "0     0.442908 -0.236870  0.000150  0.000060\n",
       "1     0.439067 -0.235691 -0.000655  0.000067\n",
       "2     0.434763 -0.235623 -0.000971 -0.000440\n",
       "3     0.430234 -0.236092 -0.000537 -0.000319\n",
       "4     0.426141 -0.235514  0.000185 -0.000358\n",
       "...        ...       ...       ...       ...\n",
       "7775 -0.455829  0.154166 -0.000373 -0.000081\n",
       "7776 -0.459449  0.155876 -0.000384 -0.000030\n",
       "7777 -0.463092  0.157534 -0.000451 -0.000062\n",
       "7778 -0.466723  0.159221 -0.000173 -0.000154\n",
       "7779 -0.470324  0.160978 -0.000285  0.000182\n",
       "\n",
       "[7780 rows x 4 columns]"
      ]
     },
     "execution_count": 36,
     "metadata": {},
     "output_type": "execute_result"
    }
   ],
   "source": [
    "X_pca"
   ]
  },
  {
   "cell_type": "code",
   "execution_count": 37,
   "id": "1bc3cc7e",
   "metadata": {},
   "outputs": [
    {
     "data": {
      "text/html": [
       "<div>\n",
       "<style scoped>\n",
       "    .dataframe tbody tr th:only-of-type {\n",
       "        vertical-align: middle;\n",
       "    }\n",
       "\n",
       "    .dataframe tbody tr th {\n",
       "        vertical-align: top;\n",
       "    }\n",
       "\n",
       "    .dataframe thead th {\n",
       "        text-align: right;\n",
       "    }\n",
       "</style>\n",
       "<table border=\"1\" class=\"dataframe\">\n",
       "  <thead>\n",
       "    <tr style=\"text-align: right;\">\n",
       "      <th></th>\n",
       "      <th>col1</th>\n",
       "      <th>col2</th>\n",
       "      <th>col3</th>\n",
       "      <th>col4</th>\n",
       "    </tr>\n",
       "  </thead>\n",
       "  <tbody>\n",
       "    <tr>\n",
       "      <th>col1</th>\n",
       "      <td>1.000000e+00</td>\n",
       "      <td>-1.794393e-15</td>\n",
       "      <td>7.223552e-18</td>\n",
       "      <td>2.781803e-18</td>\n",
       "    </tr>\n",
       "    <tr>\n",
       "      <th>col2</th>\n",
       "      <td>-1.794393e-15</td>\n",
       "      <td>1.000000e+00</td>\n",
       "      <td>1.501197e-16</td>\n",
       "      <td>1.582565e-17</td>\n",
       "    </tr>\n",
       "    <tr>\n",
       "      <th>col3</th>\n",
       "      <td>7.223552e-18</td>\n",
       "      <td>1.501197e-16</td>\n",
       "      <td>1.000000e+00</td>\n",
       "      <td>-1.992609e-16</td>\n",
       "    </tr>\n",
       "    <tr>\n",
       "      <th>col4</th>\n",
       "      <td>2.781803e-18</td>\n",
       "      <td>1.582565e-17</td>\n",
       "      <td>-1.992609e-16</td>\n",
       "      <td>1.000000e+00</td>\n",
       "    </tr>\n",
       "  </tbody>\n",
       "</table>\n",
       "</div>"
      ],
      "text/plain": [
       "              col1          col2          col3          col4\n",
       "col1  1.000000e+00 -1.794393e-15  7.223552e-18  2.781803e-18\n",
       "col2 -1.794393e-15  1.000000e+00  1.501197e-16  1.582565e-17\n",
       "col3  7.223552e-18  1.501197e-16  1.000000e+00 -1.992609e-16\n",
       "col4  2.781803e-18  1.582565e-17 -1.992609e-16  1.000000e+00"
      ]
     },
     "execution_count": 37,
     "metadata": {},
     "output_type": "execute_result"
    }
   ],
   "source": [
    "X_pca.corr()"
   ]
  },
  {
   "cell_type": "code",
   "execution_count": 38,
   "id": "05604cd1",
   "metadata": {},
   "outputs": [],
   "source": [
    "from sklearn.preprocessing import MinMaxScaler\n",
    "scaler = MinMaxScaler()"
   ]
  },
  {
   "cell_type": "code",
   "execution_count": 39,
   "id": "0abc919e",
   "metadata": {},
   "outputs": [],
   "source": [
    "for i in X_pca.columns:\n",
    "    X_pca[i] = scaler.fit_transform(X_pca[[i]])"
   ]
  },
  {
   "cell_type": "code",
   "execution_count": 40,
   "id": "fadccbb8",
   "metadata": {},
   "outputs": [
    {
     "data": {
      "image/png": "[encoded data removed]",
      "text/plain": [
       "<Figure size 2000x2000 with 4 Axes>"
      ]
     },
     "metadata": {},
     "output_type": "display_data"
    }
   ],
   "source": [
    "X_pca.hist(bins=35,figsize=(20,20));"
   ]
  },
  {
   "cell_type": "code",
   "execution_count": 43,
   "id": "1fd204a9",
   "metadata": {},
   "outputs": [],
   "source": [
    "y = y.iloc[:-1]"
   ]
  },
  {
   "cell_type": "code",
   "execution_count": 44,
   "id": "f9afc0b0",
   "metadata": {},
   "outputs": [
    {
     "name": "stdout",
     "output_type": "stream",
     "text": [
      "<class 'pandas.core.series.Series'>\n",
      "RangeIndex: 7780 entries, 0 to 7779\n",
      "Series name: target\n",
      "Non-Null Count  Dtype  \n",
      "--------------  -----  \n",
      "7780 non-null   float64\n",
      "dtypes: float64(1)\n",
      "memory usage: 60.9 KB\n"
     ]
    }
   ],
   "source": [
    "y.info()"
   ]
  },
  {
   "cell_type": "code",
   "execution_count": 45,
   "id": "9409d63c",
   "metadata": {},
   "outputs": [],
   "source": [
    "from sklearn.model_selection import train_test_split\n",
    "X_train,X_test,y_train,y_test = train_test_split(X_pca,y,test_size=0.28,random_state=42)"
   ]
  },
  {
   "cell_type": "code",
   "execution_count": 46,
   "id": "28ebacb5",
   "metadata": {},
   "outputs": [],
   "source": [
    "from sklearn.metrics import accuracy_score"
   ]
  },
  {
   "cell_type": "markdown",
   "id": "bf606e6b",
   "metadata": {},
   "source": [
    "### Decision tree"
   ]
  },
  {
   "cell_type": "code",
   "execution_count": 47,
   "id": "023a3f73",
   "metadata": {},
   "outputs": [],
   "source": [
    "from sklearn.tree import DecisionTreeClassifier\n",
    "tree = DecisionTreeClassifier(max_depth=3)\n",
    "clf = tree.fit(X_train,y_train)\n",
    "treepredict = clf.predict(X_test)"
   ]
  },
  {
   "cell_type": "code",
   "execution_count": 48,
   "id": "35410aaa",
   "metadata": {},
   "outputs": [
    {
     "data": {
      "text/plain": [
       "0.76044056906838"
      ]
     },
     "execution_count": 48,
     "metadata": {},
     "output_type": "execute_result"
    }
   ],
   "source": [
    "accuracy_score(treepredict,y_test)"
   ]
  },
  {
   "cell_type": "markdown",
   "id": "3925cc3a",
   "metadata": {},
   "source": [
    "### by using Decision tree 76 % accuracy is obtained\n"
   ]
  },
  {
   "cell_type": "code",
   "execution_count": null,
   "id": "eec5c8b2",
   "metadata": {},
   "outputs": [],
   "source": []
  },
  {
   "cell_type": "code",
   "execution_count": null,
   "id": "0e6a7bee",
   "metadata": {},
   "outputs": [],
   "source": []
  },
  {
   "cell_type": "markdown",
   "id": "c290800b",
   "metadata": {},
   "source": []
  },
  {
   "cell_type": "markdown",
   "id": "40f32747",
   "metadata": {},
   "source": []
  },
  {
   "cell_type": "code",
   "execution_count": null,
   "id": "f6f5b7e7",
   "metadata": {},
   "outputs": [],
   "source": []
  },
  {
   "cell_type": "code",
   "execution_count": null,
   "id": "c63b95f1",
   "metadata": {},
   "outputs": [],
   "source": []
  },
  {
   "cell_type": "code",
   "execution_count": null,
   "id": "8aef4233",
   "metadata": {},
   "outputs": [],
   "source": []
  },
  {
   "cell_type": "code",
   "execution_count": null,
   "id": "880197bc",
   "metadata": {},
   "outputs": [],
   "source": []
  },
  {
   "cell_type": "code",
   "execution_count": null,
   "id": "92818d69",
   "metadata": {},
   "outputs": [],
   "source": []
  },
  {
   "cell_type": "code",
   "execution_count": null,
   "id": "0f3f2aba",
   "metadata": {},
   "outputs": [],
   "source": []
  },
  {
   "cell_type": "code",
   "execution_count": null,
   "id": "66ad0788",
   "metadata": {},
   "outputs": [],
   "source": []
  },
  {
   "cell_type": "code",
   "execution_count": null,
   "id": "98cf7bd7",
   "metadata": {},
   "outputs": [],
   "source": []
  },
  {
   "cell_type": "code",
   "execution_count": null,
   "id": "f309ad13",
   "metadata": {},
   "outputs": [],
   "source": []
  },
  {
   "cell_type": "code",
   "execution_count": null,
   "id": "b4f8e239",
   "metadata": {},
   "outputs": [],
   "source": []
  },
  {
   "cell_type": "code",
   "execution_count": null,
   "id": "be4c3062",
   "metadata": {},
   "outputs": [],
   "source": []
  },
  {
   "cell_type": "code",
   "execution_count": null,
   "id": "9b1df997",
   "metadata": {},
   "outputs": [],
   "source": []
  },
  {
   "cell_type": "code",
   "execution_count": null,
   "id": "98439cf6",
   "metadata": {},
   "outputs": [],
   "source": []
  },
  {
   "cell_type": "code",
   "execution_count": null,
   "id": "f610d198",
   "metadata": {},
   "outputs": [],
   "source": []
  },
  {
   "cell_type": "code",
   "execution_count": null,
   "id": "6a553bf7",
   "metadata": {},
   "outputs": [],
   "source": []
  },
  {
   "cell_type": "code",
   "execution_count": null,
   "id": "b1ef484e",
   "metadata": {},
   "outputs": [],
   "source": []
  },
  {
   "cell_type": "code",
   "execution_count": null,
   "id": "5d6d243f",
   "metadata": {},
   "outputs": [],
   "source": []
  },
  {
   "cell_type": "code",
   "execution_count": null,
   "id": "e845f565",
   "metadata": {},
   "outputs": [],
   "source": []
  },
  {
   "cell_type": "code",
   "execution_count": null,
   "id": "99db3bd7",
   "metadata": {},
   "outputs": [],
   "source": []
  },
  {
   "cell_type": "code",
   "execution_count": null,
   "id": "ab110321",
   "metadata": {},
   "outputs": [],
   "source": []
  },
  {
   "cell_type": "code",
   "execution_count": null,
   "id": "03be353d",
   "metadata": {},
   "outputs": [],
   "source": []
  },
  {
   "cell_type": "code",
   "execution_count": null,
   "id": "968c263b",
   "metadata": {},
   "outputs": [],
   "source": []
  },
  {
   "cell_type": "code",
   "execution_count": null,
   "id": "1a2bbe14",
   "metadata": {},
   "outputs": [],
   "source": []
  },
  {
   "cell_type": "code",
   "execution_count": null,
   "id": "c06468a4",
   "metadata": {},
   "outputs": [],
   "source": []
  },
  {
   "cell_type": "code",
   "execution_count": null,
   "id": "67be9cfb",
   "metadata": {},
   "outputs": [],
   "source": []
  },
  {
   "cell_type": "code",
   "execution_count": null,
   "id": "11d3d596",
   "metadata": {},
   "outputs": [],
   "source": []
  },
  {
   "cell_type": "code",
   "execution_count": null,
   "id": "35334c35",
   "metadata": {},
   "outputs": [],
   "source": []
  },
  {
   "cell_type": "code",
   "execution_count": null,
   "id": "005b9cb1",
   "metadata": {},
   "outputs": [],
   "source": []
  },
  {
   "cell_type": "code",
   "execution_count": null,
   "id": "3f8a7854",
   "metadata": {},
   "outputs": [],
   "source": []
  },
  {
   "cell_type": "code",
   "execution_count": null,
   "id": "375c3786",
   "metadata": {},
   "outputs": [],
   "source": []
  },
  {
   "cell_type": "code",
   "execution_count": null,
   "id": "2637b363",
   "metadata": {},
   "outputs": [],
   "source": []
  },
  {
   "cell_type": "code",
   "execution_count": null,
   "id": "2869c546",
   "metadata": {},
   "outputs": [],
   "source": []
  }
 ],
 "metadata": {
  "kernelspec": {
   "display_name": "Python 3 (ipykernel)",
   "language": "python",
   "name": "python3"
  },
  "language_info": {
   "codemirror_mode": {
    "name": "ipython",
    "version": 3
   },
   "file_extension": ".py",
   "mimetype": "text/x-python",
   "name": "python",
   "nbconvert_exporter": "python",
   "pygments_lexer": "ipython3",
   "version": "3.11.5"
  }
 },
 "nbformat": 4,
 "nbformat_minor": 5
}
